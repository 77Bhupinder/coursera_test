{
 "cells": [
  {
   "cell_type": "markdown",
   "id": "ecf01df1",
   "metadata": {},
   "source": [
    "# My Jupyter Notebook on IBM Watson studio"
   ]
  },
  {
   "cell_type": "markdown",
   "id": "091f9af9",
   "metadata": {},
   "source": [
    "**Bhupinder Dhillon**  \n",
    "\n",
    " Data Analyst"
   ]
  },
  {
   "cell_type": "markdown",
   "id": "ae52ff1b",
   "metadata": {},
   "source": [
    "*I am interested in Data Science as I love mathematics and it is a booming career*\n"
   ]
  },
  {
   "cell_type": "markdown",
   "id": "b85b4b94",
   "metadata": {},
   "source": [
    "### The following program print message \" Thanks and welcome\""
   ]
  },
  {
   "cell_type": "code",
   "execution_count": 1,
   "id": "2267dd03",
   "metadata": {},
   "outputs": [
    {
     "name": "stdout",
     "output_type": "stream",
     "text": [
      "Thanks and Welcome\n"
     ]
    }
   ],
   "source": [
    "print(\"Thanks and Welcome\")"
   ]
  },
  {
   "cell_type": "markdown",
   "id": "999d83c8",
   "metadata": {},
   "source": [
    "1. one\n",
    "2. two\n",
    "3. three\n",
    "4. four\n",
    "5. five\n",
    "\n",
    "| Empno | Emp_name | Salary|\n",
    "---|---|---|\n",
    "12|**John**|2000\n",
    "13|**Mary**|2500"
   ]
  },
  {
   "cell_type": "code",
   "execution_count": null,
   "id": "a1609591",
   "metadata": {},
   "outputs": [],
   "source": []
  }
 ],
 "metadata": {
  "kernelspec": {
   "display_name": "Python 3 (ipykernel)",
   "language": "python",
   "name": "python3"
  },
  "language_info": {
   "codemirror_mode": {
    "name": "ipython",
    "version": 3
   },
   "file_extension": ".py",
   "mimetype": "text/x-python",
   "name": "python",
   "nbconvert_exporter": "python",
   "pygments_lexer": "ipython3",
   "version": "3.9.12"
  }
 },
 "nbformat": 4,
 "nbformat_minor": 5
}
